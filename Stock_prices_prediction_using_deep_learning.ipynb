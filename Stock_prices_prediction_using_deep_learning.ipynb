{
  "nbformat": 4,
  "nbformat_minor": 0,
  "metadata": {
    "colab": {
      "provenance": [],
      "mount_file_id": "12R6385kkOTd1fOX_pagNUN464TCTWlVi",
      "authorship_tag": "ABX9TyOSjK7je1shFplkdS3m8dDx",
      "include_colab_link": true
    },
    "kernelspec": {
      "name": "python3",
      "display_name": "Python 3"
    },
    "language_info": {
      "name": "python"
    }
  },
  "cells": [
    {
      "cell_type": "markdown",
      "metadata": {
        "id": "view-in-github",
        "colab_type": "text"
      },
      "source": [
        "<a href=\"https://colab.research.google.com/github/niku2712/predicting-stock-market-price-using-LSTM/blob/main/Stock_prices_prediction_using_deep_learning.ipynb\" target=\"_parent\"><img src=\"https://colab.research.google.com/assets/colab-badge.svg\" alt=\"Open In Colab\"/></a>"
      ]
    },
    {
      "cell_type": "code",
      "execution_count": 2,
      "metadata": {
        "id": "TqYYOSLIP2yN"
      },
      "outputs": [],
      "source": [
        "# importing the required libraries\n",
        "import pandas as pd\n",
        "import numpy as np\n",
        "from pandas import DataFrame\n",
        "from pandas import concat\n",
        "from math import sqrt\n",
        "from numpy import concatenate\n",
        "from sklearn.preprocessing import LabelEncoder\n",
        "from sklearn.preprocessing import MinMaxScaler\n",
        "from datetime import datetime\n",
        "import matplotlib.pyplot as plt\n",
        "from sklearn.metrics import mean_squared_error\n",
        "from keras.models import Sequential\n",
        "from keras.layers import Dense\n",
        "from keras.layers import Dropout\n",
        "from keras.layers import LSTM\n"
      ]
    },
    {
      "cell_type": "code",
      "source": [
        "# importing the Apple stock price dataset from 2015 - 2020\n",
        "df = pd.read_csv(\"/content/drive/MyDrive/AAPL.csv\")\n",
        "df.head()"
      ],
      "metadata": {
        "colab": {
          "base_uri": "https://localhost:8080/",
          "height": 206
        },
        "id": "n5ly8LIJP30d",
        "outputId": "01f30f99-acb0-4247-edb2-dbbe6c9c8816"
      },
      "execution_count": 3,
      "outputs": [
        {
          "output_type": "execute_result",
          "data": {
            "text/plain": [
              "   Unnamed: 0 symbol                       date    close     high     low  \\\n",
              "0           0   AAPL  2015-05-27 00:00:00+00:00  132.045  132.260  130.05   \n",
              "1           1   AAPL  2015-05-28 00:00:00+00:00  131.780  131.950  131.10   \n",
              "2           2   AAPL  2015-05-29 00:00:00+00:00  130.280  131.450  129.90   \n",
              "3           3   AAPL  2015-06-01 00:00:00+00:00  130.535  131.390  130.05   \n",
              "4           4   AAPL  2015-06-02 00:00:00+00:00  129.960  130.655  129.32   \n",
              "\n",
              "     open    volume    adjClose     adjHigh      adjLow     adjOpen  \\\n",
              "0  130.34  45833246  121.682558  121.880685  119.844118  120.111360   \n",
              "1  131.86  30733309  121.438354  121.595013  120.811718  121.512076   \n",
              "2  131.23  50884452  120.056069  121.134251  119.705890  120.931516   \n",
              "3  131.20  32112797  120.291057  121.078960  119.844118  120.903870   \n",
              "4  129.86  33667627  119.761181  120.401640  119.171406  119.669029   \n",
              "\n",
              "   adjVolume  divCash  splitFactor  \n",
              "0   45833246      0.0          1.0  \n",
              "1   30733309      0.0          1.0  \n",
              "2   50884452      0.0          1.0  \n",
              "3   32112797      0.0          1.0  \n",
              "4   33667627      0.0          1.0  "
            ],
            "text/html": [
              "\n",
              "  <div id=\"df-1051657c-0d39-4d9b-8a04-e311a8ee1123\">\n",
              "    <div class=\"colab-df-container\">\n",
              "      <div>\n",
              "<style scoped>\n",
              "    .dataframe tbody tr th:only-of-type {\n",
              "        vertical-align: middle;\n",
              "    }\n",
              "\n",
              "    .dataframe tbody tr th {\n",
              "        vertical-align: top;\n",
              "    }\n",
              "\n",
              "    .dataframe thead th {\n",
              "        text-align: right;\n",
              "    }\n",
              "</style>\n",
              "<table border=\"1\" class=\"dataframe\">\n",
              "  <thead>\n",
              "    <tr style=\"text-align: right;\">\n",
              "      <th></th>\n",
              "      <th>Unnamed: 0</th>\n",
              "      <th>symbol</th>\n",
              "      <th>date</th>\n",
              "      <th>close</th>\n",
              "      <th>high</th>\n",
              "      <th>low</th>\n",
              "      <th>open</th>\n",
              "      <th>volume</th>\n",
              "      <th>adjClose</th>\n",
              "      <th>adjHigh</th>\n",
              "      <th>adjLow</th>\n",
              "      <th>adjOpen</th>\n",
              "      <th>adjVolume</th>\n",
              "      <th>divCash</th>\n",
              "      <th>splitFactor</th>\n",
              "    </tr>\n",
              "  </thead>\n",
              "  <tbody>\n",
              "    <tr>\n",
              "      <th>0</th>\n",
              "      <td>0</td>\n",
              "      <td>AAPL</td>\n",
              "      <td>2015-05-27 00:00:00+00:00</td>\n",
              "      <td>132.045</td>\n",
              "      <td>132.260</td>\n",
              "      <td>130.05</td>\n",
              "      <td>130.34</td>\n",
              "      <td>45833246</td>\n",
              "      <td>121.682558</td>\n",
              "      <td>121.880685</td>\n",
              "      <td>119.844118</td>\n",
              "      <td>120.111360</td>\n",
              "      <td>45833246</td>\n",
              "      <td>0.0</td>\n",
              "      <td>1.0</td>\n",
              "    </tr>\n",
              "    <tr>\n",
              "      <th>1</th>\n",
              "      <td>1</td>\n",
              "      <td>AAPL</td>\n",
              "      <td>2015-05-28 00:00:00+00:00</td>\n",
              "      <td>131.780</td>\n",
              "      <td>131.950</td>\n",
              "      <td>131.10</td>\n",
              "      <td>131.86</td>\n",
              "      <td>30733309</td>\n",
              "      <td>121.438354</td>\n",
              "      <td>121.595013</td>\n",
              "      <td>120.811718</td>\n",
              "      <td>121.512076</td>\n",
              "      <td>30733309</td>\n",
              "      <td>0.0</td>\n",
              "      <td>1.0</td>\n",
              "    </tr>\n",
              "    <tr>\n",
              "      <th>2</th>\n",
              "      <td>2</td>\n",
              "      <td>AAPL</td>\n",
              "      <td>2015-05-29 00:00:00+00:00</td>\n",
              "      <td>130.280</td>\n",
              "      <td>131.450</td>\n",
              "      <td>129.90</td>\n",
              "      <td>131.23</td>\n",
              "      <td>50884452</td>\n",
              "      <td>120.056069</td>\n",
              "      <td>121.134251</td>\n",
              "      <td>119.705890</td>\n",
              "      <td>120.931516</td>\n",
              "      <td>50884452</td>\n",
              "      <td>0.0</td>\n",
              "      <td>1.0</td>\n",
              "    </tr>\n",
              "    <tr>\n",
              "      <th>3</th>\n",
              "      <td>3</td>\n",
              "      <td>AAPL</td>\n",
              "      <td>2015-06-01 00:00:00+00:00</td>\n",
              "      <td>130.535</td>\n",
              "      <td>131.390</td>\n",
              "      <td>130.05</td>\n",
              "      <td>131.20</td>\n",
              "      <td>32112797</td>\n",
              "      <td>120.291057</td>\n",
              "      <td>121.078960</td>\n",
              "      <td>119.844118</td>\n",
              "      <td>120.903870</td>\n",
              "      <td>32112797</td>\n",
              "      <td>0.0</td>\n",
              "      <td>1.0</td>\n",
              "    </tr>\n",
              "    <tr>\n",
              "      <th>4</th>\n",
              "      <td>4</td>\n",
              "      <td>AAPL</td>\n",
              "      <td>2015-06-02 00:00:00+00:00</td>\n",
              "      <td>129.960</td>\n",
              "      <td>130.655</td>\n",
              "      <td>129.32</td>\n",
              "      <td>129.86</td>\n",
              "      <td>33667627</td>\n",
              "      <td>119.761181</td>\n",
              "      <td>120.401640</td>\n",
              "      <td>119.171406</td>\n",
              "      <td>119.669029</td>\n",
              "      <td>33667627</td>\n",
              "      <td>0.0</td>\n",
              "      <td>1.0</td>\n",
              "    </tr>\n",
              "  </tbody>\n",
              "</table>\n",
              "</div>\n",
              "      <button class=\"colab-df-convert\" onclick=\"convertToInteractive('df-1051657c-0d39-4d9b-8a04-e311a8ee1123')\"\n",
              "              title=\"Convert this dataframe to an interactive table.\"\n",
              "              style=\"display:none;\">\n",
              "        \n",
              "  <svg xmlns=\"http://www.w3.org/2000/svg\" height=\"24px\"viewBox=\"0 0 24 24\"\n",
              "       width=\"24px\">\n",
              "    <path d=\"M0 0h24v24H0V0z\" fill=\"none\"/>\n",
              "    <path d=\"M18.56 5.44l.94 2.06.94-2.06 2.06-.94-2.06-.94-.94-2.06-.94 2.06-2.06.94zm-11 1L8.5 8.5l.94-2.06 2.06-.94-2.06-.94L8.5 2.5l-.94 2.06-2.06.94zm10 10l.94 2.06.94-2.06 2.06-.94-2.06-.94-.94-2.06-.94 2.06-2.06.94z\"/><path d=\"M17.41 7.96l-1.37-1.37c-.4-.4-.92-.59-1.43-.59-.52 0-1.04.2-1.43.59L10.3 9.45l-7.72 7.72c-.78.78-.78 2.05 0 2.83L4 21.41c.39.39.9.59 1.41.59.51 0 1.02-.2 1.41-.59l7.78-7.78 2.81-2.81c.8-.78.8-2.07 0-2.86zM5.41 20L4 18.59l7.72-7.72 1.47 1.35L5.41 20z\"/>\n",
              "  </svg>\n",
              "      </button>\n",
              "      \n",
              "  <style>\n",
              "    .colab-df-container {\n",
              "      display:flex;\n",
              "      flex-wrap:wrap;\n",
              "      gap: 12px;\n",
              "    }\n",
              "\n",
              "    .colab-df-convert {\n",
              "      background-color: #E8F0FE;\n",
              "      border: none;\n",
              "      border-radius: 50%;\n",
              "      cursor: pointer;\n",
              "      display: none;\n",
              "      fill: #1967D2;\n",
              "      height: 32px;\n",
              "      padding: 0 0 0 0;\n",
              "      width: 32px;\n",
              "    }\n",
              "\n",
              "    .colab-df-convert:hover {\n",
              "      background-color: #E2EBFA;\n",
              "      box-shadow: 0px 1px 2px rgba(60, 64, 67, 0.3), 0px 1px 3px 1px rgba(60, 64, 67, 0.15);\n",
              "      fill: #174EA6;\n",
              "    }\n",
              "\n",
              "    [theme=dark] .colab-df-convert {\n",
              "      background-color: #3B4455;\n",
              "      fill: #D2E3FC;\n",
              "    }\n",
              "\n",
              "    [theme=dark] .colab-df-convert:hover {\n",
              "      background-color: #434B5C;\n",
              "      box-shadow: 0px 1px 3px 1px rgba(0, 0, 0, 0.15);\n",
              "      filter: drop-shadow(0px 1px 2px rgba(0, 0, 0, 0.3));\n",
              "      fill: #FFFFFF;\n",
              "    }\n",
              "  </style>\n",
              "\n",
              "      <script>\n",
              "        const buttonEl =\n",
              "          document.querySelector('#df-1051657c-0d39-4d9b-8a04-e311a8ee1123 button.colab-df-convert');\n",
              "        buttonEl.style.display =\n",
              "          google.colab.kernel.accessAllowed ? 'block' : 'none';\n",
              "\n",
              "        async function convertToInteractive(key) {\n",
              "          const element = document.querySelector('#df-1051657c-0d39-4d9b-8a04-e311a8ee1123');\n",
              "          const dataTable =\n",
              "            await google.colab.kernel.invokeFunction('convertToInteractive',\n",
              "                                                     [key], {});\n",
              "          if (!dataTable) return;\n",
              "\n",
              "          const docLinkHtml = 'Like what you see? Visit the ' +\n",
              "            '<a target=\"_blank\" href=https://colab.research.google.com/notebooks/data_table.ipynb>data table notebook</a>'\n",
              "            + ' to learn more about interactive tables.';\n",
              "          element.innerHTML = '';\n",
              "          dataTable['output_type'] = 'display_data';\n",
              "          await google.colab.output.renderOutput(dataTable, element);\n",
              "          const docLink = document.createElement('div');\n",
              "          docLink.innerHTML = docLinkHtml;\n",
              "          element.appendChild(docLink);\n",
              "        }\n",
              "      </script>\n",
              "    </div>\n",
              "  </div>\n",
              "  "
            ]
          },
          "metadata": {},
          "execution_count": 3
        }
      ]
    },
    {
      "cell_type": "code",
      "source": [
        "# now we will clean the data and drop the unnecessary columns\n",
        "df = df.drop(df.columns[[0,1]],axis = 1)\n",
        "df.drop(['splitFactor'],axis = 1, inplace = True)\n"
      ],
      "metadata": {
        "id": "GT5hda6IcIQy"
      },
      "execution_count": 4,
      "outputs": []
    },
    {
      "cell_type": "code",
      "source": [
        "#now let us check the data\n",
        "df.info()"
      ],
      "metadata": {
        "colab": {
          "base_uri": "https://localhost:8080/"
        },
        "id": "NIp5kfNvfV9b",
        "outputId": "2e41efa9-c386-4ad4-b0f3-62f2a29e64ca"
      },
      "execution_count": 5,
      "outputs": [
        {
          "output_type": "stream",
          "name": "stdout",
          "text": [
            "<class 'pandas.core.frame.DataFrame'>\n",
            "RangeIndex: 1258 entries, 0 to 1257\n",
            "Data columns (total 12 columns):\n",
            " #   Column     Non-Null Count  Dtype  \n",
            "---  ------     --------------  -----  \n",
            " 0   date       1258 non-null   object \n",
            " 1   close      1258 non-null   float64\n",
            " 2   high       1258 non-null   float64\n",
            " 3   low        1258 non-null   float64\n",
            " 4   open       1258 non-null   float64\n",
            " 5   volume     1258 non-null   int64  \n",
            " 6   adjClose   1258 non-null   float64\n",
            " 7   adjHigh    1258 non-null   float64\n",
            " 8   adjLow     1258 non-null   float64\n",
            " 9   adjOpen    1258 non-null   float64\n",
            " 10  adjVolume  1258 non-null   int64  \n",
            " 11  divCash    1258 non-null   float64\n",
            "dtypes: float64(9), int64(2), object(1)\n",
            "memory usage: 118.1+ KB\n"
          ]
        }
      ]
    },
    {
      "cell_type": "code",
      "source": [
        "# now we will change the date format of date feature in the file\n",
        "df.date = pd.to_datetime(df.date)\n",
        "# as we dont want the time information in date column we will change the formart of date column\n",
        "df.date = df.date.dt.date\n",
        "df.head() # to check the head columns of the date"
      ],
      "metadata": {
        "colab": {
          "base_uri": "https://localhost:8080/",
          "height": 206
        },
        "id": "L7O8QDZEfkFn",
        "outputId": "ca500be7-df97-42b2-ec49-80fd2dcc2179"
      },
      "execution_count": 6,
      "outputs": [
        {
          "output_type": "execute_result",
          "data": {
            "text/plain": [
              "         date    close     high     low    open    volume    adjClose  \\\n",
              "0  2015-05-27  132.045  132.260  130.05  130.34  45833246  121.682558   \n",
              "1  2015-05-28  131.780  131.950  131.10  131.86  30733309  121.438354   \n",
              "2  2015-05-29  130.280  131.450  129.90  131.23  50884452  120.056069   \n",
              "3  2015-06-01  130.535  131.390  130.05  131.20  32112797  120.291057   \n",
              "4  2015-06-02  129.960  130.655  129.32  129.86  33667627  119.761181   \n",
              "\n",
              "      adjHigh      adjLow     adjOpen  adjVolume  divCash  \n",
              "0  121.880685  119.844118  120.111360   45833246      0.0  \n",
              "1  121.595013  120.811718  121.512076   30733309      0.0  \n",
              "2  121.134251  119.705890  120.931516   50884452      0.0  \n",
              "3  121.078960  119.844118  120.903870   32112797      0.0  \n",
              "4  120.401640  119.171406  119.669029   33667627      0.0  "
            ],
            "text/html": [
              "\n",
              "  <div id=\"df-f55ece7b-75a2-4100-9b17-5eb7ebc20b66\">\n",
              "    <div class=\"colab-df-container\">\n",
              "      <div>\n",
              "<style scoped>\n",
              "    .dataframe tbody tr th:only-of-type {\n",
              "        vertical-align: middle;\n",
              "    }\n",
              "\n",
              "    .dataframe tbody tr th {\n",
              "        vertical-align: top;\n",
              "    }\n",
              "\n",
              "    .dataframe thead th {\n",
              "        text-align: right;\n",
              "    }\n",
              "</style>\n",
              "<table border=\"1\" class=\"dataframe\">\n",
              "  <thead>\n",
              "    <tr style=\"text-align: right;\">\n",
              "      <th></th>\n",
              "      <th>date</th>\n",
              "      <th>close</th>\n",
              "      <th>high</th>\n",
              "      <th>low</th>\n",
              "      <th>open</th>\n",
              "      <th>volume</th>\n",
              "      <th>adjClose</th>\n",
              "      <th>adjHigh</th>\n",
              "      <th>adjLow</th>\n",
              "      <th>adjOpen</th>\n",
              "      <th>adjVolume</th>\n",
              "      <th>divCash</th>\n",
              "    </tr>\n",
              "  </thead>\n",
              "  <tbody>\n",
              "    <tr>\n",
              "      <th>0</th>\n",
              "      <td>2015-05-27</td>\n",
              "      <td>132.045</td>\n",
              "      <td>132.260</td>\n",
              "      <td>130.05</td>\n",
              "      <td>130.34</td>\n",
              "      <td>45833246</td>\n",
              "      <td>121.682558</td>\n",
              "      <td>121.880685</td>\n",
              "      <td>119.844118</td>\n",
              "      <td>120.111360</td>\n",
              "      <td>45833246</td>\n",
              "      <td>0.0</td>\n",
              "    </tr>\n",
              "    <tr>\n",
              "      <th>1</th>\n",
              "      <td>2015-05-28</td>\n",
              "      <td>131.780</td>\n",
              "      <td>131.950</td>\n",
              "      <td>131.10</td>\n",
              "      <td>131.86</td>\n",
              "      <td>30733309</td>\n",
              "      <td>121.438354</td>\n",
              "      <td>121.595013</td>\n",
              "      <td>120.811718</td>\n",
              "      <td>121.512076</td>\n",
              "      <td>30733309</td>\n",
              "      <td>0.0</td>\n",
              "    </tr>\n",
              "    <tr>\n",
              "      <th>2</th>\n",
              "      <td>2015-05-29</td>\n",
              "      <td>130.280</td>\n",
              "      <td>131.450</td>\n",
              "      <td>129.90</td>\n",
              "      <td>131.23</td>\n",
              "      <td>50884452</td>\n",
              "      <td>120.056069</td>\n",
              "      <td>121.134251</td>\n",
              "      <td>119.705890</td>\n",
              "      <td>120.931516</td>\n",
              "      <td>50884452</td>\n",
              "      <td>0.0</td>\n",
              "    </tr>\n",
              "    <tr>\n",
              "      <th>3</th>\n",
              "      <td>2015-06-01</td>\n",
              "      <td>130.535</td>\n",
              "      <td>131.390</td>\n",
              "      <td>130.05</td>\n",
              "      <td>131.20</td>\n",
              "      <td>32112797</td>\n",
              "      <td>120.291057</td>\n",
              "      <td>121.078960</td>\n",
              "      <td>119.844118</td>\n",
              "      <td>120.903870</td>\n",
              "      <td>32112797</td>\n",
              "      <td>0.0</td>\n",
              "    </tr>\n",
              "    <tr>\n",
              "      <th>4</th>\n",
              "      <td>2015-06-02</td>\n",
              "      <td>129.960</td>\n",
              "      <td>130.655</td>\n",
              "      <td>129.32</td>\n",
              "      <td>129.86</td>\n",
              "      <td>33667627</td>\n",
              "      <td>119.761181</td>\n",
              "      <td>120.401640</td>\n",
              "      <td>119.171406</td>\n",
              "      <td>119.669029</td>\n",
              "      <td>33667627</td>\n",
              "      <td>0.0</td>\n",
              "    </tr>\n",
              "  </tbody>\n",
              "</table>\n",
              "</div>\n",
              "      <button class=\"colab-df-convert\" onclick=\"convertToInteractive('df-f55ece7b-75a2-4100-9b17-5eb7ebc20b66')\"\n",
              "              title=\"Convert this dataframe to an interactive table.\"\n",
              "              style=\"display:none;\">\n",
              "        \n",
              "  <svg xmlns=\"http://www.w3.org/2000/svg\" height=\"24px\"viewBox=\"0 0 24 24\"\n",
              "       width=\"24px\">\n",
              "    <path d=\"M0 0h24v24H0V0z\" fill=\"none\"/>\n",
              "    <path d=\"M18.56 5.44l.94 2.06.94-2.06 2.06-.94-2.06-.94-.94-2.06-.94 2.06-2.06.94zm-11 1L8.5 8.5l.94-2.06 2.06-.94-2.06-.94L8.5 2.5l-.94 2.06-2.06.94zm10 10l.94 2.06.94-2.06 2.06-.94-2.06-.94-.94-2.06-.94 2.06-2.06.94z\"/><path d=\"M17.41 7.96l-1.37-1.37c-.4-.4-.92-.59-1.43-.59-.52 0-1.04.2-1.43.59L10.3 9.45l-7.72 7.72c-.78.78-.78 2.05 0 2.83L4 21.41c.39.39.9.59 1.41.59.51 0 1.02-.2 1.41-.59l7.78-7.78 2.81-2.81c.8-.78.8-2.07 0-2.86zM5.41 20L4 18.59l7.72-7.72 1.47 1.35L5.41 20z\"/>\n",
              "  </svg>\n",
              "      </button>\n",
              "      \n",
              "  <style>\n",
              "    .colab-df-container {\n",
              "      display:flex;\n",
              "      flex-wrap:wrap;\n",
              "      gap: 12px;\n",
              "    }\n",
              "\n",
              "    .colab-df-convert {\n",
              "      background-color: #E8F0FE;\n",
              "      border: none;\n",
              "      border-radius: 50%;\n",
              "      cursor: pointer;\n",
              "      display: none;\n",
              "      fill: #1967D2;\n",
              "      height: 32px;\n",
              "      padding: 0 0 0 0;\n",
              "      width: 32px;\n",
              "    }\n",
              "\n",
              "    .colab-df-convert:hover {\n",
              "      background-color: #E2EBFA;\n",
              "      box-shadow: 0px 1px 2px rgba(60, 64, 67, 0.3), 0px 1px 3px 1px rgba(60, 64, 67, 0.15);\n",
              "      fill: #174EA6;\n",
              "    }\n",
              "\n",
              "    [theme=dark] .colab-df-convert {\n",
              "      background-color: #3B4455;\n",
              "      fill: #D2E3FC;\n",
              "    }\n",
              "\n",
              "    [theme=dark] .colab-df-convert:hover {\n",
              "      background-color: #434B5C;\n",
              "      box-shadow: 0px 1px 3px 1px rgba(0, 0, 0, 0.15);\n",
              "      filter: drop-shadow(0px 1px 2px rgba(0, 0, 0, 0.3));\n",
              "      fill: #FFFFFF;\n",
              "    }\n",
              "  </style>\n",
              "\n",
              "      <script>\n",
              "        const buttonEl =\n",
              "          document.querySelector('#df-f55ece7b-75a2-4100-9b17-5eb7ebc20b66 button.colab-df-convert');\n",
              "        buttonEl.style.display =\n",
              "          google.colab.kernel.accessAllowed ? 'block' : 'none';\n",
              "\n",
              "        async function convertToInteractive(key) {\n",
              "          const element = document.querySelector('#df-f55ece7b-75a2-4100-9b17-5eb7ebc20b66');\n",
              "          const dataTable =\n",
              "            await google.colab.kernel.invokeFunction('convertToInteractive',\n",
              "                                                     [key], {});\n",
              "          if (!dataTable) return;\n",
              "\n",
              "          const docLinkHtml = 'Like what you see? Visit the ' +\n",
              "            '<a target=\"_blank\" href=https://colab.research.google.com/notebooks/data_table.ipynb>data table notebook</a>'\n",
              "            + ' to learn more about interactive tables.';\n",
              "          element.innerHTML = '';\n",
              "          dataTable['output_type'] = 'display_data';\n",
              "          await google.colab.output.renderOutput(dataTable, element);\n",
              "          const docLink = document.createElement('div');\n",
              "          docLink.innerHTML = docLinkHtml;\n",
              "          element.appendChild(docLink);\n",
              "        }\n",
              "      </script>\n",
              "    </div>\n",
              "  </div>\n",
              "  "
            ]
          },
          "metadata": {},
          "execution_count": 6
        }
      ]
    },
    {
      "cell_type": "code",
      "source": [
        "# now let us check if there is an missing value in the date\n",
        "df.isnull().sum()"
      ],
      "metadata": {
        "colab": {
          "base_uri": "https://localhost:8080/"
        },
        "id": "yj4w4UF2hPki",
        "outputId": "9b75b599-71e5-41cf-bfff-e356c9290bd9"
      },
      "execution_count": 7,
      "outputs": [
        {
          "output_type": "execute_result",
          "data": {
            "text/plain": [
              "date         0\n",
              "close        0\n",
              "high         0\n",
              "low          0\n",
              "open         0\n",
              "volume       0\n",
              "adjClose     0\n",
              "adjHigh      0\n",
              "adjLow       0\n",
              "adjOpen      0\n",
              "adjVolume    0\n",
              "divCash      0\n",
              "dtype: int64"
            ]
          },
          "metadata": {},
          "execution_count": 7
        }
      ]
    },
    {
      "cell_type": "code",
      "source": [
        "# here we will make the date column as index of our date\n",
        "df = df.set_index('date')\n",
        "df.head()"
      ],
      "metadata": {
        "colab": {
          "base_uri": "https://localhost:8080/",
          "height": 237
        },
        "id": "ZNIn-CsVhd2Y",
        "outputId": "be42ce02-9690-4ce6-d35e-66135fa70d47"
      },
      "execution_count": 8,
      "outputs": [
        {
          "output_type": "execute_result",
          "data": {
            "text/plain": [
              "              close     high     low    open    volume    adjClose  \\\n",
              "date                                                                 \n",
              "2015-05-27  132.045  132.260  130.05  130.34  45833246  121.682558   \n",
              "2015-05-28  131.780  131.950  131.10  131.86  30733309  121.438354   \n",
              "2015-05-29  130.280  131.450  129.90  131.23  50884452  120.056069   \n",
              "2015-06-01  130.535  131.390  130.05  131.20  32112797  120.291057   \n",
              "2015-06-02  129.960  130.655  129.32  129.86  33667627  119.761181   \n",
              "\n",
              "               adjHigh      adjLow     adjOpen  adjVolume  divCash  \n",
              "date                                                                \n",
              "2015-05-27  121.880685  119.844118  120.111360   45833246      0.0  \n",
              "2015-05-28  121.595013  120.811718  121.512076   30733309      0.0  \n",
              "2015-05-29  121.134251  119.705890  120.931516   50884452      0.0  \n",
              "2015-06-01  121.078960  119.844118  120.903870   32112797      0.0  \n",
              "2015-06-02  120.401640  119.171406  119.669029   33667627      0.0  "
            ],
            "text/html": [
              "\n",
              "  <div id=\"df-56f7a34b-2991-4dee-a36c-7eca761d9460\">\n",
              "    <div class=\"colab-df-container\">\n",
              "      <div>\n",
              "<style scoped>\n",
              "    .dataframe tbody tr th:only-of-type {\n",
              "        vertical-align: middle;\n",
              "    }\n",
              "\n",
              "    .dataframe tbody tr th {\n",
              "        vertical-align: top;\n",
              "    }\n",
              "\n",
              "    .dataframe thead th {\n",
              "        text-align: right;\n",
              "    }\n",
              "</style>\n",
              "<table border=\"1\" class=\"dataframe\">\n",
              "  <thead>\n",
              "    <tr style=\"text-align: right;\">\n",
              "      <th></th>\n",
              "      <th>close</th>\n",
              "      <th>high</th>\n",
              "      <th>low</th>\n",
              "      <th>open</th>\n",
              "      <th>volume</th>\n",
              "      <th>adjClose</th>\n",
              "      <th>adjHigh</th>\n",
              "      <th>adjLow</th>\n",
              "      <th>adjOpen</th>\n",
              "      <th>adjVolume</th>\n",
              "      <th>divCash</th>\n",
              "    </tr>\n",
              "    <tr>\n",
              "      <th>date</th>\n",
              "      <th></th>\n",
              "      <th></th>\n",
              "      <th></th>\n",
              "      <th></th>\n",
              "      <th></th>\n",
              "      <th></th>\n",
              "      <th></th>\n",
              "      <th></th>\n",
              "      <th></th>\n",
              "      <th></th>\n",
              "      <th></th>\n",
              "    </tr>\n",
              "  </thead>\n",
              "  <tbody>\n",
              "    <tr>\n",
              "      <th>2015-05-27</th>\n",
              "      <td>132.045</td>\n",
              "      <td>132.260</td>\n",
              "      <td>130.05</td>\n",
              "      <td>130.34</td>\n",
              "      <td>45833246</td>\n",
              "      <td>121.682558</td>\n",
              "      <td>121.880685</td>\n",
              "      <td>119.844118</td>\n",
              "      <td>120.111360</td>\n",
              "      <td>45833246</td>\n",
              "      <td>0.0</td>\n",
              "    </tr>\n",
              "    <tr>\n",
              "      <th>2015-05-28</th>\n",
              "      <td>131.780</td>\n",
              "      <td>131.950</td>\n",
              "      <td>131.10</td>\n",
              "      <td>131.86</td>\n",
              "      <td>30733309</td>\n",
              "      <td>121.438354</td>\n",
              "      <td>121.595013</td>\n",
              "      <td>120.811718</td>\n",
              "      <td>121.512076</td>\n",
              "      <td>30733309</td>\n",
              "      <td>0.0</td>\n",
              "    </tr>\n",
              "    <tr>\n",
              "      <th>2015-05-29</th>\n",
              "      <td>130.280</td>\n",
              "      <td>131.450</td>\n",
              "      <td>129.90</td>\n",
              "      <td>131.23</td>\n",
              "      <td>50884452</td>\n",
              "      <td>120.056069</td>\n",
              "      <td>121.134251</td>\n",
              "      <td>119.705890</td>\n",
              "      <td>120.931516</td>\n",
              "      <td>50884452</td>\n",
              "      <td>0.0</td>\n",
              "    </tr>\n",
              "    <tr>\n",
              "      <th>2015-06-01</th>\n",
              "      <td>130.535</td>\n",
              "      <td>131.390</td>\n",
              "      <td>130.05</td>\n",
              "      <td>131.20</td>\n",
              "      <td>32112797</td>\n",
              "      <td>120.291057</td>\n",
              "      <td>121.078960</td>\n",
              "      <td>119.844118</td>\n",
              "      <td>120.903870</td>\n",
              "      <td>32112797</td>\n",
              "      <td>0.0</td>\n",
              "    </tr>\n",
              "    <tr>\n",
              "      <th>2015-06-02</th>\n",
              "      <td>129.960</td>\n",
              "      <td>130.655</td>\n",
              "      <td>129.32</td>\n",
              "      <td>129.86</td>\n",
              "      <td>33667627</td>\n",
              "      <td>119.761181</td>\n",
              "      <td>120.401640</td>\n",
              "      <td>119.171406</td>\n",
              "      <td>119.669029</td>\n",
              "      <td>33667627</td>\n",
              "      <td>0.0</td>\n",
              "    </tr>\n",
              "  </tbody>\n",
              "</table>\n",
              "</div>\n",
              "      <button class=\"colab-df-convert\" onclick=\"convertToInteractive('df-56f7a34b-2991-4dee-a36c-7eca761d9460')\"\n",
              "              title=\"Convert this dataframe to an interactive table.\"\n",
              "              style=\"display:none;\">\n",
              "        \n",
              "  <svg xmlns=\"http://www.w3.org/2000/svg\" height=\"24px\"viewBox=\"0 0 24 24\"\n",
              "       width=\"24px\">\n",
              "    <path d=\"M0 0h24v24H0V0z\" fill=\"none\"/>\n",
              "    <path d=\"M18.56 5.44l.94 2.06.94-2.06 2.06-.94-2.06-.94-.94-2.06-.94 2.06-2.06.94zm-11 1L8.5 8.5l.94-2.06 2.06-.94-2.06-.94L8.5 2.5l-.94 2.06-2.06.94zm10 10l.94 2.06.94-2.06 2.06-.94-2.06-.94-.94-2.06-.94 2.06-2.06.94z\"/><path d=\"M17.41 7.96l-1.37-1.37c-.4-.4-.92-.59-1.43-.59-.52 0-1.04.2-1.43.59L10.3 9.45l-7.72 7.72c-.78.78-.78 2.05 0 2.83L4 21.41c.39.39.9.59 1.41.59.51 0 1.02-.2 1.41-.59l7.78-7.78 2.81-2.81c.8-.78.8-2.07 0-2.86zM5.41 20L4 18.59l7.72-7.72 1.47 1.35L5.41 20z\"/>\n",
              "  </svg>\n",
              "      </button>\n",
              "      \n",
              "  <style>\n",
              "    .colab-df-container {\n",
              "      display:flex;\n",
              "      flex-wrap:wrap;\n",
              "      gap: 12px;\n",
              "    }\n",
              "\n",
              "    .colab-df-convert {\n",
              "      background-color: #E8F0FE;\n",
              "      border: none;\n",
              "      border-radius: 50%;\n",
              "      cursor: pointer;\n",
              "      display: none;\n",
              "      fill: #1967D2;\n",
              "      height: 32px;\n",
              "      padding: 0 0 0 0;\n",
              "      width: 32px;\n",
              "    }\n",
              "\n",
              "    .colab-df-convert:hover {\n",
              "      background-color: #E2EBFA;\n",
              "      box-shadow: 0px 1px 2px rgba(60, 64, 67, 0.3), 0px 1px 3px 1px rgba(60, 64, 67, 0.15);\n",
              "      fill: #174EA6;\n",
              "    }\n",
              "\n",
              "    [theme=dark] .colab-df-convert {\n",
              "      background-color: #3B4455;\n",
              "      fill: #D2E3FC;\n",
              "    }\n",
              "\n",
              "    [theme=dark] .colab-df-convert:hover {\n",
              "      background-color: #434B5C;\n",
              "      box-shadow: 0px 1px 3px 1px rgba(0, 0, 0, 0.15);\n",
              "      filter: drop-shadow(0px 1px 2px rgba(0, 0, 0, 0.3));\n",
              "      fill: #FFFFFF;\n",
              "    }\n",
              "  </style>\n",
              "\n",
              "      <script>\n",
              "        const buttonEl =\n",
              "          document.querySelector('#df-56f7a34b-2991-4dee-a36c-7eca761d9460 button.colab-df-convert');\n",
              "        buttonEl.style.display =\n",
              "          google.colab.kernel.accessAllowed ? 'block' : 'none';\n",
              "\n",
              "        async function convertToInteractive(key) {\n",
              "          const element = document.querySelector('#df-56f7a34b-2991-4dee-a36c-7eca761d9460');\n",
              "          const dataTable =\n",
              "            await google.colab.kernel.invokeFunction('convertToInteractive',\n",
              "                                                     [key], {});\n",
              "          if (!dataTable) return;\n",
              "\n",
              "          const docLinkHtml = 'Like what you see? Visit the ' +\n",
              "            '<a target=\"_blank\" href=https://colab.research.google.com/notebooks/data_table.ipynb>data table notebook</a>'\n",
              "            + ' to learn more about interactive tables.';\n",
              "          element.innerHTML = '';\n",
              "          dataTable['output_type'] = 'display_data';\n",
              "          await google.colab.output.renderOutput(dataTable, element);\n",
              "          const docLink = document.createElement('div');\n",
              "          docLink.innerHTML = docLinkHtml;\n",
              "          element.appendChild(docLink);\n",
              "        }\n",
              "      </script>\n",
              "    </div>\n",
              "  </div>\n",
              "  "
            ]
          },
          "metadata": {},
          "execution_count": 8
        }
      ]
    },
    {
      "cell_type": "code",
      "source": [
        "# now let us plot the closing value and the trading volume movement over several years\n",
        "plt.figure(figsize = (10,5))\n",
        "df.close.plot()\n",
        "plt.ylabel('Closing Value')\n",
        "plt.xlabel('Time Interval')\n",
        "plt.title('Closing price of Apple stocks from 2015 - 2020' )\n"
      ],
      "metadata": {
        "colab": {
          "base_uri": "https://localhost:8080/",
          "height": 367
        },
        "id": "6bxI1K2-uAun",
        "outputId": "5b60487c-0daf-44aa-9f24-ccd89e6b2954"
      },
      "execution_count": 9,
      "outputs": [
        {
          "output_type": "execute_result",
          "data": {
            "text/plain": [
              "Text(0.5, 1.0, 'Closing price of Apple stocks from 2015 - 2020')"
            ]
          },
          "metadata": {},
          "execution_count": 9
        },
        {
          "output_type": "display_data",
          "data": {
            "text/plain": [
              "<Figure size 720x360 with 1 Axes>"
            ],
            "image/png": "[encoded data removed]"
          },
          "metadata": {
            "needs_background": "light"
          }
        }
      ]
    },
    {
      "cell_type": "code",
      "source": [
        "# now let us plot the trading volume movement over several years\n",
        "plt.figure(figsize = (10,5))\n",
        "df.volume.plot()\n",
        "plt.ylabel('Volume')\n",
        "plt.xlabel('Time Interval')\n",
        "plt.title('Sales volume of Apple stocks from 2015 - 2020' )"
      ],
      "metadata": {
        "colab": {
          "base_uri": "https://localhost:8080/",
          "height": 367
        },
        "id": "aMrocMFfzlGX",
        "outputId": "f3d96cda-cc6c-428c-8b04-c19127101890"
      },
      "execution_count": 10,
      "outputs": [
        {
          "output_type": "execute_result",
          "data": {
            "text/plain": [
              "Text(0.5, 1.0, 'Sales volume of Apple stocks from 2015 - 2020')"
            ]
          },
          "metadata": {},
          "execution_count": 10
        },
        {
          "output_type": "display_data",
          "data": {
            "text/plain": [
              "<Figure size 720x360 with 1 Axes>"
            ],
            "image/png": "[encoded data removed]"
          },
          "metadata": {
            "needs_background": "light"
          }
        }
      ]
    },
    {
      "cell_type": "code",
      "source": [
        "# converting the series data into a supervised format\n",
        "def series_to_supervised(data, n_in=1, n_out=1, dropnan=True):\n",
        "  n_vars = 1 if type(data) is list else data.shape[1]\n",
        "  df = DataFrame(data)\n",
        "  cols, names = list(), list()\n",
        "  # now we will input the sequence(t-n, .....t-1)\n",
        "  for i in range(n_in, 0, -1):\n",
        "    cols.append(df.shift(i))\n",
        "    names +=[('var%d(t-%d)' % (j+1, i)) for j in range(n_vars)]\n",
        "  # forecasting the sequence (t, t-1, ....t+1)\n",
        "  for i in range(0, n_out):\n",
        "    cols.append(df.shift(-i))\n",
        "    if i ==0:\n",
        "      names +=[('var%d(t)' % (j+1)) for j in range(n_vars)]\n",
        "    else:\n",
        "        names +=[('var%d(t+%d)' % (j+1, i)) for j in range(n_vars)]\n",
        "  # Putting it all together\n",
        "  agg = concat(cols, axis = 1)\n",
        "  agg.columns = names\n",
        "  # now we will drop the rows with NaN values\n",
        "  if dropnan:\n",
        "    agg.dropna(inplace=True)\n",
        "    return agg\n",
        "\n",
        "\n",
        "\n"
      ],
      "metadata": {
        "id": "9oxTOAfL0hJb"
      },
      "execution_count": 11,
      "outputs": []
    },
    {
      "cell_type": "code",
      "source": [
        "values = df.values\n",
        "values = values.astype('float32')"
      ],
      "metadata": {
        "id": "B-4Euuy88xv1"
      },
      "execution_count": 12,
      "outputs": []
    },
    {
      "cell_type": "code",
      "source": [
        "values"
      ],
      "metadata": {
        "colab": {
          "base_uri": "https://localhost:8080/"
        },
        "id": "Aq2adYxH9Bwb",
        "outputId": "878d0f0a-a4e8-4d3a-d888-0376a14d2836"
      },
      "execution_count": 13,
      "outputs": [
        {
          "output_type": "execute_result",
          "data": {
            "text/plain": [
              "array([[1.3204500e+02, 1.3225999e+02, 1.3005000e+02, ..., 1.2011136e+02,\n",
              "        4.5833248e+07, 0.0000000e+00],\n",
              "       [1.3178000e+02, 1.3195000e+02, 1.3110001e+02, ..., 1.2151208e+02,\n",
              "        3.0733308e+07, 0.0000000e+00],\n",
              "       [1.3028000e+02, 1.3145000e+02, 1.2989999e+02, ..., 1.2093152e+02,\n",
              "        5.0884452e+07, 0.0000000e+00],\n",
              "       ...,\n",
              "       [3.1923001e+02, 3.1951999e+02, 3.1620001e+02, ..., 3.1667999e+02,\n",
              "        2.7876216e+07, 0.0000000e+00],\n",
              "       [3.1685001e+02, 3.2089001e+02, 3.1587000e+02, ..., 3.1866000e+02,\n",
              "        2.5672212e+07, 0.0000000e+00],\n",
              "       [3.1889001e+02, 3.1923001e+02, 3.1535001e+02, ..., 3.1576999e+02,\n",
              "        2.0450754e+07, 0.0000000e+00]], dtype=float32)"
            ]
          },
          "metadata": {},
          "execution_count": 13
        }
      ]
    },
    {
      "cell_type": "code",
      "source": [
        "# let us normalize the data using scaler = MinMaxScaler\n",
        "scaler = MinMaxScaler(feature_range = (0,1))\n",
        "scaled = scaler.fit_transform(values)\n",
        "\n",
        "# framing as supervised learning\n",
        "df_new = series_to_supervised(scaled, 1, 1)\n",
        "print(df_new.head())"
      ],
      "metadata": {
        "colab": {
          "base_uri": "https://localhost:8080/"
        },
        "id": "JUg5BQ5W9Ijz",
        "outputId": "b526ff5d-3db9-4a19-c281-e412bdd55f58"
      },
      "execution_count": 14,
      "outputs": [
        {
          "output_type": "stream",
          "name": "stdout",
          "text": [
            "   var1(t-1)  var2(t-1)  var3(t-1)  var4(t-1)  var5(t-1)  var6(t-1)  \\\n",
            "1   0.176074   0.171860   0.173508   0.171857   0.228522   0.152158   \n",
            "2   0.174956   0.170548   0.177997   0.178333   0.128419   0.151146   \n",
            "3   0.168623   0.168431   0.172866   0.175649   0.262008   0.145419   \n",
            "4   0.169699   0.168177   0.173508   0.175521   0.137564   0.146393   \n",
            "5   0.167272   0.165065   0.170387   0.169812   0.147872   0.144198   \n",
            "\n",
            "   var7(t-1)  var8(t-1)  var9(t-1)  var10(t-1)  ...   var2(t)   var3(t)  \\\n",
            "1   0.148554   0.149806   0.148290    0.228522  ...  0.170548  0.177997   \n",
            "2   0.147365   0.153865   0.154145    0.128419  ...  0.168431  0.172866   \n",
            "3   0.145446   0.149226   0.151718    0.262008  ...  0.168177  0.173508   \n",
            "4   0.145216   0.149806   0.151603    0.137564  ...  0.165065  0.170387   \n",
            "5   0.142396   0.146984   0.146441    0.147872  ...  0.166272  0.172866   \n",
            "\n",
            "    var4(t)   var5(t)   var6(t)   var7(t)   var8(t)   var9(t)  var10(t)  \\\n",
            "1  0.178333  0.128419  0.151146  0.147365  0.153865  0.154145  0.128419   \n",
            "2  0.175649  0.262008  0.145419  0.145446  0.149226  0.151718  0.262008   \n",
            "3  0.175521  0.137564  0.146393  0.145216  0.149806  0.151603  0.137564   \n",
            "4  0.169812  0.147872  0.144198  0.142396  0.146984  0.146441  0.147872   \n",
            "5  0.173220  0.130078  0.144808  0.143489  0.149226  0.149523  0.130078   \n",
            "\n",
            "   var11(t)  \n",
            "1       0.0  \n",
            "2       0.0  \n",
            "3       0.0  \n",
            "4       0.0  \n",
            "5       0.0  \n",
            "\n",
            "[5 rows x 22 columns]\n"
          ]
        }
      ]
    },
    {
      "cell_type": "code",
      "source": [
        "# we will drop the rest of the columns as we are going to use only the closed price\n",
        "df_new.drop(df_new.columns[[12, 13, 14, 15, 16, 17, 18, 19, 20, 21]], axis = 1, inplace = True)\n",
        "print(df_new.head())"
      ],
      "metadata": {
        "colab": {
          "base_uri": "https://localhost:8080/"
        },
        "id": "dulznYi9AiNM",
        "outputId": "c1e298e5-b465-49dd-d743-6f10f51ddd98"
      },
      "execution_count": 15,
      "outputs": [
        {
          "output_type": "stream",
          "name": "stdout",
          "text": [
            "   var1(t-1)  var2(t-1)  var3(t-1)  var4(t-1)  var5(t-1)  var6(t-1)  \\\n",
            "1   0.176074   0.171860   0.173508   0.171857   0.228522   0.152158   \n",
            "2   0.174956   0.170548   0.177997   0.178333   0.128419   0.151146   \n",
            "3   0.168623   0.168431   0.172866   0.175649   0.262008   0.145419   \n",
            "4   0.169699   0.168177   0.173508   0.175521   0.137564   0.146393   \n",
            "5   0.167272   0.165065   0.170387   0.169812   0.147872   0.144198   \n",
            "\n",
            "   var7(t-1)  var8(t-1)  var9(t-1)  var10(t-1)  var11(t-1)   var1(t)  \n",
            "1   0.148554   0.149806   0.148290    0.228522         0.0  0.174956  \n",
            "2   0.147365   0.153865   0.154145    0.128419         0.0  0.168623  \n",
            "3   0.145446   0.149226   0.151718    0.262008         0.0  0.169699  \n",
            "4   0.145216   0.149806   0.151603    0.137564         0.0  0.167272  \n",
            "5   0.142396   0.146984   0.146441    0.147872         0.0  0.167947  \n"
          ]
        }
      ]
    },
    {
      "cell_type": "code",
      "source": [
        "df_new.shape"
      ],
      "metadata": {
        "colab": {
          "base_uri": "https://localhost:8080/"
        },
        "id": "MENgXSBpBXqF",
        "outputId": "b923ff64-28f6-4644-baba-3a8ca0c3d709"
      },
      "execution_count": 16,
      "outputs": [
        {
          "output_type": "execute_result",
          "data": {
            "text/plain": [
              "(1257, 12)"
            ]
          },
          "metadata": {},
          "execution_count": 16
        }
      ]
    },
    {
      "cell_type": "code",
      "source": [
        "# splitting the data into train and test sets\n",
        "values = df_new.values\n",
        "n_train_days = 365 * 2 # here we are taking last two years of data as training set\n",
        "train = values[:n_train_days, :]\n",
        "test = values[n_train_days:, :]\n",
        "# splitting values into input and outputs\n",
        "train_X, train_y = train[:, :-1], train[:, -1]\n",
        "test_X, test_y = test[:, :-1], test[:, -1]\n",
        "# reshaping input to be 3D[sampling, timesteps, features]\n",
        "train_X = train_X.reshape((train_X.shape[0], 1, train_X.shape[1]))\n",
        "test_X = test_X.reshape((test_X.shape[0], 1, test_X.shape[1]))\n",
        "print(train_X.shape, train_y.shape, test_X.shape, test_y.shape)\n"
      ],
      "metadata": {
        "colab": {
          "base_uri": "https://localhost:8080/"
        },
        "id": "yi_3aqFlJEEz",
        "outputId": "d9dd69d0-ec47-4a4a-8c85-8a9dd25a8b17"
      },
      "execution_count": 17,
      "outputs": [
        {
          "output_type": "stream",
          "name": "stdout",
          "text": [
            "(730, 1, 11) (730,) (527, 1, 11) (527,)\n"
          ]
        }
      ]
    },
    {
      "cell_type": "code",
      "source": [
        "# creating LSTM model for predicting the stock prices\n",
        "# designing network\n",
        "model = Sequential()\n",
        "model.add(LSTM(50, return_sequences=True, input_shape = (train_X.shape[1], train_X.shape[2])))\n",
        "model.add(LSTM(units=50))\n",
        "model.add(Dropout(0.2))\n",
        "model.add(Dense(1))\n",
        "model.compile(loss = 'mae', optimizer = 'adam')"
      ],
      "metadata": {
        "id": "CvnWOphFLqwp"
      },
      "execution_count": 18,
      "outputs": []
    },
    {
      "cell_type": "code",
      "source": [
        "# fitting the network\n",
        "history = model.fit(train_X, train_y, epochs = 50, batch_size = 72, validation_data = (test_X, test_y), verbose = 2, shuffle = False)\n",
        "# plotting the history\n",
        "plt.plot(history.history['loss'], label = 'train')\n",
        "plt.plot(history.history['val_loss'], label = 'test')\n",
        "plt.legend()\n",
        "plt.show()"
      ],
      "metadata": {
        "colab": {
          "base_uri": "https://localhost:8080/",
          "height": 1000
        },
        "id": "ZCeNVirL-4ua",
        "outputId": "c64fcf5c-4c9d-4164-884c-a3c20cd30a0d"
      },
      "execution_count": 19,
      "outputs": [
        {
          "output_type": "stream",
          "name": "stdout",
          "text": [
            "Epoch 1/50\n",
            "11/11 - 5s - loss: 0.1393 - val_loss: 0.4441 - 5s/epoch - 446ms/step\n",
            "Epoch 2/50\n",
            "11/11 - 0s - loss: 0.0882 - val_loss: 0.3261 - 96ms/epoch - 9ms/step\n",
            "Epoch 3/50\n",
            "11/11 - 0s - loss: 0.0655 - val_loss: 0.2203 - 86ms/epoch - 8ms/step\n",
            "Epoch 4/50\n",
            "11/11 - 0s - loss: 0.0588 - val_loss: 0.1297 - 91ms/epoch - 8ms/step\n",
            "Epoch 5/50\n",
            "11/11 - 0s - loss: 0.0570 - val_loss: 0.0763 - 88ms/epoch - 8ms/step\n",
            "Epoch 6/50\n",
            "11/11 - 0s - loss: 0.0519 - val_loss: 0.0608 - 81ms/epoch - 7ms/step\n",
            "Epoch 7/50\n",
            "11/11 - 0s - loss: 0.0373 - val_loss: 0.0257 - 89ms/epoch - 8ms/step\n",
            "Epoch 8/50\n",
            "11/11 - 0s - loss: 0.0259 - val_loss: 0.0263 - 95ms/epoch - 9ms/step\n",
            "Epoch 9/50\n",
            "11/11 - 0s - loss: 0.0170 - val_loss: 0.0568 - 86ms/epoch - 8ms/step\n",
            "Epoch 10/50\n",
            "11/11 - 0s - loss: 0.0157 - val_loss: 0.0744 - 98ms/epoch - 9ms/step\n",
            "Epoch 11/50\n",
            "11/11 - 0s - loss: 0.0160 - val_loss: 0.0785 - 100ms/epoch - 9ms/step\n",
            "Epoch 12/50\n",
            "11/11 - 0s - loss: 0.0157 - val_loss: 0.0570 - 82ms/epoch - 7ms/step\n",
            "Epoch 13/50\n",
            "11/11 - 0s - loss: 0.0151 - val_loss: 0.0599 - 88ms/epoch - 8ms/step\n",
            "Epoch 14/50\n",
            "11/11 - 0s - loss: 0.0145 - val_loss: 0.0496 - 99ms/epoch - 9ms/step\n",
            "Epoch 15/50\n",
            "11/11 - 0s - loss: 0.0153 - val_loss: 0.0665 - 96ms/epoch - 9ms/step\n",
            "Epoch 16/50\n",
            "11/11 - 0s - loss: 0.0146 - val_loss: 0.0506 - 90ms/epoch - 8ms/step\n",
            "Epoch 17/50\n",
            "11/11 - 0s - loss: 0.0155 - val_loss: 0.0701 - 94ms/epoch - 9ms/step\n",
            "Epoch 18/50\n",
            "11/11 - 0s - loss: 0.0135 - val_loss: 0.0412 - 94ms/epoch - 9ms/step\n",
            "Epoch 19/50\n",
            "11/11 - 0s - loss: 0.0154 - val_loss: 0.0532 - 88ms/epoch - 8ms/step\n",
            "Epoch 20/50\n",
            "11/11 - 0s - loss: 0.0139 - val_loss: 0.0424 - 87ms/epoch - 8ms/step\n",
            "Epoch 21/50\n",
            "11/11 - 0s - loss: 0.0126 - val_loss: 0.0426 - 99ms/epoch - 9ms/step\n",
            "Epoch 22/50\n",
            "11/11 - 0s - loss: 0.0140 - val_loss: 0.0487 - 90ms/epoch - 8ms/step\n",
            "Epoch 23/50\n",
            "11/11 - 0s - loss: 0.0140 - val_loss: 0.0375 - 104ms/epoch - 9ms/step\n",
            "Epoch 24/50\n",
            "11/11 - 0s - loss: 0.0147 - val_loss: 0.0279 - 95ms/epoch - 9ms/step\n",
            "Epoch 25/50\n",
            "11/11 - 0s - loss: 0.0197 - val_loss: 0.0402 - 87ms/epoch - 8ms/step\n",
            "Epoch 26/50\n",
            "11/11 - 0s - loss: 0.0204 - val_loss: 0.0188 - 102ms/epoch - 9ms/step\n",
            "Epoch 27/50\n",
            "11/11 - 0s - loss: 0.0257 - val_loss: 0.0156 - 84ms/epoch - 8ms/step\n",
            "Epoch 28/50\n",
            "11/11 - 0s - loss: 0.0202 - val_loss: 0.0162 - 80ms/epoch - 7ms/step\n",
            "Epoch 29/50\n",
            "11/11 - 0s - loss: 0.0207 - val_loss: 0.0159 - 83ms/epoch - 8ms/step\n",
            "Epoch 30/50\n",
            "11/11 - 0s - loss: 0.0201 - val_loss: 0.0192 - 70ms/epoch - 6ms/step\n",
            "Epoch 31/50\n",
            "11/11 - 0s - loss: 0.0172 - val_loss: 0.0213 - 80ms/epoch - 7ms/step\n",
            "Epoch 32/50\n",
            "11/11 - 0s - loss: 0.0152 - val_loss: 0.0153 - 113ms/epoch - 10ms/step\n",
            "Epoch 33/50\n",
            "11/11 - 0s - loss: 0.0135 - val_loss: 0.0206 - 79ms/epoch - 7ms/step\n",
            "Epoch 34/50\n",
            "11/11 - 0s - loss: 0.0135 - val_loss: 0.0169 - 90ms/epoch - 8ms/step\n",
            "Epoch 35/50\n",
            "11/11 - 0s - loss: 0.0133 - val_loss: 0.0232 - 90ms/epoch - 8ms/step\n",
            "Epoch 36/50\n",
            "11/11 - 0s - loss: 0.0122 - val_loss: 0.0178 - 86ms/epoch - 8ms/step\n",
            "Epoch 37/50\n",
            "11/11 - 0s - loss: 0.0130 - val_loss: 0.0154 - 95ms/epoch - 9ms/step\n",
            "Epoch 38/50\n",
            "11/11 - 0s - loss: 0.0153 - val_loss: 0.0261 - 96ms/epoch - 9ms/step\n",
            "Epoch 39/50\n",
            "11/11 - 0s - loss: 0.0142 - val_loss: 0.0163 - 86ms/epoch - 8ms/step\n",
            "Epoch 40/50\n",
            "11/11 - 0s - loss: 0.0122 - val_loss: 0.0146 - 82ms/epoch - 7ms/step\n",
            "Epoch 41/50\n",
            "11/11 - 0s - loss: 0.0126 - val_loss: 0.0170 - 84ms/epoch - 8ms/step\n",
            "Epoch 42/50\n",
            "11/11 - 0s - loss: 0.0140 - val_loss: 0.0165 - 86ms/epoch - 8ms/step\n",
            "Epoch 43/50\n",
            "11/11 - 0s - loss: 0.0124 - val_loss: 0.0166 - 127ms/epoch - 12ms/step\n",
            "Epoch 44/50\n",
            "11/11 - 0s - loss: 0.0112 - val_loss: 0.0170 - 131ms/epoch - 12ms/step\n",
            "Epoch 45/50\n",
            "11/11 - 0s - loss: 0.0115 - val_loss: 0.0165 - 121ms/epoch - 11ms/step\n",
            "Epoch 46/50\n",
            "11/11 - 0s - loss: 0.0126 - val_loss: 0.0173 - 127ms/epoch - 12ms/step\n",
            "Epoch 47/50\n",
            "11/11 - 0s - loss: 0.0115 - val_loss: 0.0187 - 108ms/epoch - 10ms/step\n",
            "Epoch 48/50\n",
            "11/11 - 0s - loss: 0.0122 - val_loss: 0.0218 - 105ms/epoch - 10ms/step\n",
            "Epoch 49/50\n",
            "11/11 - 0s - loss: 0.0136 - val_loss: 0.0243 - 123ms/epoch - 11ms/step\n",
            "Epoch 50/50\n",
            "11/11 - 0s - loss: 0.0146 - val_loss: 0.0279 - 101ms/epoch - 9ms/step\n"
          ]
        },
        {
          "output_type": "display_data",
          "data": {
            "text/plain": [
              "<Figure size 432x288 with 1 Axes>"
            ],
            "image/png": "[encoded data removed]"
          },
          "metadata": {
            "needs_background": "light"
          }
        }
      ]
    },
    {
      "cell_type": "code",
      "source": [
        "from keras.layers.serialization import reshaping\n",
        "# now we need to make a prediction\n",
        "yhat = model.predict(test_X)\n",
        "test_X = test_X.reshape((test_X.shape[0], test_X.shape[2]))\n",
        "# invert the scaling for forecast\n",
        "inv_yhat = concatenate((yhat, test_X[:, 1:]), axis=1)\n",
        "inv_yhat = scaler.inverse_transform(inv_yhat)\n",
        "inv_yhat = inv_yhat[:,0]\n",
        "# inverting scaling for actual\n",
        "test_y = test_y.reshape((len(test_y), 1))\n",
        "inv_y = concatenate((test_y, test_X[:, 1:]), axis=1)\n",
        "inv_y = scaler.inverse_transform(inv_y)\n",
        "inv_y = inv_y[:,0]\n",
        "# calculating RSME\n",
        "rmse = sqrt(mean_squared_error(inv_y, inv_yhat))\n",
        "print('Test RSME: %.3f' % rmse)\n",
        "\n",
        "\n",
        "\n"
      ],
      "metadata": {
        "colab": {
          "base_uri": "https://localhost:8080/"
        },
        "id": "AkiXAYqRA07N",
        "outputId": "e2301997-16ce-445e-e12c-cbe578654d12"
      },
      "execution_count": 20,
      "outputs": [
        {
          "output_type": "stream",
          "name": "stdout",
          "text": [
            "17/17 [==============================] - 1s 3ms/step\n",
            "Test RSME: 9.070\n"
          ]
        }
      ]
    },
    {
      "cell_type": "code",
      "source": [
        "# now let us see the result\n",
        "result_comp = pd.DataFrame(list(zip(inv_y, inv_yhat)), columns = ['Close_Price_Real', 'Close_Price_Forecast'])\n",
        "result_comp.head()"
      ],
      "metadata": {
        "colab": {
          "base_uri": "https://localhost:8080/",
          "height": 206
        },
        "id": "67g4rRPwIQg_",
        "outputId": "26368178-c26d-4893-88dd-d7d7a5893465"
      },
      "execution_count": 21,
      "outputs": [
        {
          "output_type": "execute_result",
          "data": {
            "text/plain": [
              "   Close_Price_Real  Close_Price_Forecast\n",
              "0        165.720001            171.635590\n",
              "1        165.240005            166.614700\n",
              "2        162.940002            163.754044\n",
              "3        163.649994            162.068939\n",
              "4        164.220001            161.518204"
            ],
            "text/html": [
              "\n",
              "  <div id=\"df-fd8d34c2-d5c5-4882-8453-e407f5aa2f90\">\n",
              "    <div class=\"colab-df-container\">\n",
              "      <div>\n",
              "<style scoped>\n",
              "    .dataframe tbody tr th:only-of-type {\n",
              "        vertical-align: middle;\n",
              "    }\n",
              "\n",
              "    .dataframe tbody tr th {\n",
              "        vertical-align: top;\n",
              "    }\n",
              "\n",
              "    .dataframe thead th {\n",
              "        text-align: right;\n",
              "    }\n",
              "</style>\n",
              "<table border=\"1\" class=\"dataframe\">\n",
              "  <thead>\n",
              "    <tr style=\"text-align: right;\">\n",
              "      <th></th>\n",
              "      <th>Close_Price_Real</th>\n",
              "      <th>Close_Price_Forecast</th>\n",
              "    </tr>\n",
              "  </thead>\n",
              "  <tbody>\n",
              "    <tr>\n",
              "      <th>0</th>\n",
              "      <td>165.720001</td>\n",
              "      <td>171.635590</td>\n",
              "    </tr>\n",
              "    <tr>\n",
              "      <th>1</th>\n",
              "      <td>165.240005</td>\n",
              "      <td>166.614700</td>\n",
              "    </tr>\n",
              "    <tr>\n",
              "      <th>2</th>\n",
              "      <td>162.940002</td>\n",
              "      <td>163.754044</td>\n",
              "    </tr>\n",
              "    <tr>\n",
              "      <th>3</th>\n",
              "      <td>163.649994</td>\n",
              "      <td>162.068939</td>\n",
              "    </tr>\n",
              "    <tr>\n",
              "      <th>4</th>\n",
              "      <td>164.220001</td>\n",
              "      <td>161.518204</td>\n",
              "    </tr>\n",
              "  </tbody>\n",
              "</table>\n",
              "</div>\n",
              "      <button class=\"colab-df-convert\" onclick=\"convertToInteractive('df-fd8d34c2-d5c5-4882-8453-e407f5aa2f90')\"\n",
              "              title=\"Convert this dataframe to an interactive table.\"\n",
              "              style=\"display:none;\">\n",
              "        \n",
              "  <svg xmlns=\"http://www.w3.org/2000/svg\" height=\"24px\"viewBox=\"0 0 24 24\"\n",
              "       width=\"24px\">\n",
              "    <path d=\"M0 0h24v24H0V0z\" fill=\"none\"/>\n",
              "    <path d=\"M18.56 5.44l.94 2.06.94-2.06 2.06-.94-2.06-.94-.94-2.06-.94 2.06-2.06.94zm-11 1L8.5 8.5l.94-2.06 2.06-.94-2.06-.94L8.5 2.5l-.94 2.06-2.06.94zm10 10l.94 2.06.94-2.06 2.06-.94-2.06-.94-.94-2.06-.94 2.06-2.06.94z\"/><path d=\"M17.41 7.96l-1.37-1.37c-.4-.4-.92-.59-1.43-.59-.52 0-1.04.2-1.43.59L10.3 9.45l-7.72 7.72c-.78.78-.78 2.05 0 2.83L4 21.41c.39.39.9.59 1.41.59.51 0 1.02-.2 1.41-.59l7.78-7.78 2.81-2.81c.8-.78.8-2.07 0-2.86zM5.41 20L4 18.59l7.72-7.72 1.47 1.35L5.41 20z\"/>\n",
              "  </svg>\n",
              "      </button>\n",
              "      \n",
              "  <style>\n",
              "    .colab-df-container {\n",
              "      display:flex;\n",
              "      flex-wrap:wrap;\n",
              "      gap: 12px;\n",
              "    }\n",
              "\n",
              "    .colab-df-convert {\n",
              "      background-color: #E8F0FE;\n",
              "      border: none;\n",
              "      border-radius: 50%;\n",
              "      cursor: pointer;\n",
              "      display: none;\n",
              "      fill: #1967D2;\n",
              "      height: 32px;\n",
              "      padding: 0 0 0 0;\n",
              "      width: 32px;\n",
              "    }\n",
              "\n",
              "    .colab-df-convert:hover {\n",
              "      background-color: #E2EBFA;\n",
              "      box-shadow: 0px 1px 2px rgba(60, 64, 67, 0.3), 0px 1px 3px 1px rgba(60, 64, 67, 0.15);\n",
              "      fill: #174EA6;\n",
              "    }\n",
              "\n",
              "    [theme=dark] .colab-df-convert {\n",
              "      background-color: #3B4455;\n",
              "      fill: #D2E3FC;\n",
              "    }\n",
              "\n",
              "    [theme=dark] .colab-df-convert:hover {\n",
              "      background-color: #434B5C;\n",
              "      box-shadow: 0px 1px 3px 1px rgba(0, 0, 0, 0.15);\n",
              "      filter: drop-shadow(0px 1px 2px rgba(0, 0, 0, 0.3));\n",
              "      fill: #FFFFFF;\n",
              "    }\n",
              "  </style>\n",
              "\n",
              "      <script>\n",
              "        const buttonEl =\n",
              "          document.querySelector('#df-fd8d34c2-d5c5-4882-8453-e407f5aa2f90 button.colab-df-convert');\n",
              "        buttonEl.style.display =\n",
              "          google.colab.kernel.accessAllowed ? 'block' : 'none';\n",
              "\n",
              "        async function convertToInteractive(key) {\n",
              "          const element = document.querySelector('#df-fd8d34c2-d5c5-4882-8453-e407f5aa2f90');\n",
              "          const dataTable =\n",
              "            await google.colab.kernel.invokeFunction('convertToInteractive',\n",
              "                                                     [key], {});\n",
              "          if (!dataTable) return;\n",
              "\n",
              "          const docLinkHtml = 'Like what you see? Visit the ' +\n",
              "            '<a target=\"_blank\" href=https://colab.research.google.com/notebooks/data_table.ipynb>data table notebook</a>'\n",
              "            + ' to learn more about interactive tables.';\n",
              "          element.innerHTML = '';\n",
              "          dataTable['output_type'] = 'display_data';\n",
              "          await google.colab.output.renderOutput(dataTable, element);\n",
              "          const docLink = document.createElement('div');\n",
              "          docLink.innerHTML = docLinkHtml;\n",
              "          element.appendChild(docLink);\n",
              "        }\n",
              "      </script>\n",
              "    </div>\n",
              "  </div>\n",
              "  "
            ]
          },
          "metadata": {},
          "execution_count": 21
        }
      ]
    },
    {
      "cell_type": "code",
      "source": [
        "plt.figure(figsize=(10,5))\n",
        "plt.plot(result_comp['Close_Price_Real'],label='actual',color='red')\n",
        "plt.plot(result_comp['Close_Price_Forecast'],label='forecast',color='blue')\n",
        "plt.title('Comparasion Between Actual and Forecasted Closing Price of Apple Stock Using LSTM Model',fontsize=15)\n",
        "plt.legend()"
      ],
      "metadata": {
        "colab": {
          "base_uri": "https://localhost:8080/",
          "height": 355
        },
        "id": "yNYbHLz0KQwW",
        "outputId": "c300d84b-fa83-416f-eef6-95747378f920"
      },
      "execution_count": 22,
      "outputs": [
        {
          "output_type": "execute_result",
          "data": {
            "text/plain": [
              "<matplotlib.legend.Legend at 0x7feef5e109d0>"
            ]
          },
          "metadata": {},
          "execution_count": 22
        },
        {
          "output_type": "display_data",
          "data": {
            "text/plain": [
              "<Figure size 720x360 with 1 Axes>"
            ],
            "image/png": "[encoded data removed]"
          },
          "metadata": {
            "needs_background": "light"
          }
        }
      ]
    },
    {
      "cell_type": "code",
      "source": [
        "model.save('_Stock_Price_LSTM.h5')\n",
        "print(\"Saved\")"
      ],
      "metadata": {
        "colab": {
          "base_uri": "https://localhost:8080/"
        },
        "id": "tOAATWxmbymc",
        "outputId": "191ce0f6-2ceb-4eb1-b0ca-2c70c7699c59"
      },
      "execution_count": 23,
      "outputs": [
        {
          "output_type": "stream",
          "name": "stdout",
          "text": [
            "Saved\n"
          ]
        }
      ]
    },
    {
      "cell_type": "code",
      "source": [
        "model.summary()"
      ],
      "metadata": {
        "colab": {
          "base_uri": "https://localhost:8080/"
        },
        "id": "-Lr1KBKGMChw",
        "outputId": "3cf5fdea-47a9-40b2-ed17-68ca57014ca6"
      },
      "execution_count": 24,
      "outputs": [
        {
          "output_type": "stream",
          "name": "stdout",
          "text": [
            "Model: \"sequential\"\n",
            "_________________________________________________________________\n",
            " Layer (type)                Output Shape              Param #   \n",
            "=================================================================\n",
            " lstm (LSTM)                 (None, 1, 50)             12400     \n",
            "                                                                 \n",
            " lstm_1 (LSTM)               (None, 50)                20200     \n",
            "                                                                 \n",
            " dropout (Dropout)           (None, 50)                0         \n",
            "                                                                 \n",
            " dense (Dense)               (None, 1)                 51        \n",
            "                                                                 \n",
            "=================================================================\n",
            "Total params: 32,651\n",
            "Trainable params: 32,651\n",
            "Non-trainable params: 0\n",
            "_________________________________________________________________\n"
          ]
        }
      ]
    },
    {
      "cell_type": "code",
      "source": [
        "# plotting the model \n",
        "from tensorflow import keras\n",
        "from keras.utils.vis_utils import plot_model\n",
        "keras.utils.plot_model(model, to_file='model.png', show_layer_names=True)"
      ],
      "metadata": {
        "colab": {
          "base_uri": "https://localhost:8080/",
          "height": 466
        },
        "id": "rTZ9PbS3cpsL",
        "outputId": "6eceb89d-a078-4bee-d666-199f31e3d93d"
      },
      "execution_count": 26,
      "outputs": [
        {
          "output_type": "execute_result",
          "data": {
            "image/png": "[encoded data removed]",
            "text/plain": [
              "<IPython.core.display.Image object>"
            ]
          },
          "metadata": {},
          "execution_count": 26
        }
      ]
    }
  ]
}